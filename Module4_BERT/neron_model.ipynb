{
 "cells": [
  {
   "cell_type": "code",
   "execution_count": 1,
   "metadata": {},
   "outputs": [
    {
     "name": "stderr",
     "output_type": "stream",
     "text": [
      "/home/kbudakovskiy/anaconda3/lib/python3.10/site-packages/tqdm/auto.py:21: TqdmWarning: IProgress not found. Please update jupyter and ipywidgets. See https://ipywidgets.readthedocs.io/en/stable/user_install.html\n",
      "  from .autonotebook import tqdm as notebook_tqdm\n"
     ]
    }
   ],
   "source": [
    "import torch\n",
    "import numpy as np\n",
    "import datetime\n",
    "import random\n",
    "import time\n",
    "#from transformers import RobertaTokenizer, RobertaForSequenceClassification, get_linear_schedule_with_warmup\n",
    "from transformers import BertTokenizer, BertForSequenceClassification, get_linear_schedule_with_warmup\n",
    "from torch.utils.data import DataLoader, TensorDataset,RandomSampler,SequentialSampler\n",
    "from peft import get_peft_config, get_peft_model, LoraConfig, TaskType\n",
    "from accelerate import Accelerator"
   ]
  },
  {
   "cell_type": "code",
   "execution_count": 2,
   "metadata": {},
   "outputs": [],
   "source": [
    "accelerator = Accelerator()\n",
    "device = accelerator.device\n",
    "# device = \"cpu\""
   ]
  },
  {
   "cell_type": "code",
   "execution_count": 3,
   "metadata": {},
   "outputs": [
    {
     "name": "stderr",
     "output_type": "stream",
     "text": [
      "Some weights of BertForSequenceClassification were not initialized from the model checkpoint at ai-forever/ruBert-base and are newly initialized: ['classifier.weight', 'classifier.bias']\n",
      "You should probably TRAIN this model on a down-stream task to be able to use it for predictions and inference.\n"
     ]
    },
    {
     "data": {
      "text/plain": [
       "BertForSequenceClassification(\n",
       "  (bert): BertModel(\n",
       "    (embeddings): BertEmbeddings(\n",
       "      (word_embeddings): Embedding(120138, 768, padding_idx=0)\n",
       "      (position_embeddings): Embedding(512, 768)\n",
       "      (token_type_embeddings): Embedding(2, 768)\n",
       "      (LayerNorm): LayerNorm((768,), eps=1e-12, elementwise_affine=True)\n",
       "      (dropout): Dropout(p=0.1, inplace=False)\n",
       "    )\n",
       "    (encoder): BertEncoder(\n",
       "      (layer): ModuleList(\n",
       "        (0-11): 12 x BertLayer(\n",
       "          (attention): BertAttention(\n",
       "            (self): BertSelfAttention(\n",
       "              (query): Linear(in_features=768, out_features=768, bias=True)\n",
       "              (key): Linear(in_features=768, out_features=768, bias=True)\n",
       "              (value): Linear(in_features=768, out_features=768, bias=True)\n",
       "              (dropout): Dropout(p=0.1, inplace=False)\n",
       "            )\n",
       "            (output): BertSelfOutput(\n",
       "              (dense): Linear(in_features=768, out_features=768, bias=True)\n",
       "              (LayerNorm): LayerNorm((768,), eps=1e-12, elementwise_affine=True)\n",
       "              (dropout): Dropout(p=0.1, inplace=False)\n",
       "            )\n",
       "          )\n",
       "          (intermediate): BertIntermediate(\n",
       "            (dense): Linear(in_features=768, out_features=3072, bias=True)\n",
       "            (intermediate_act_fn): GELUActivation()\n",
       "          )\n",
       "          (output): BertOutput(\n",
       "            (dense): Linear(in_features=3072, out_features=768, bias=True)\n",
       "            (LayerNorm): LayerNorm((768,), eps=1e-12, elementwise_affine=True)\n",
       "            (dropout): Dropout(p=0.1, inplace=False)\n",
       "          )\n",
       "        )\n",
       "      )\n",
       "    )\n",
       "    (pooler): BertPooler(\n",
       "      (dense): Linear(in_features=768, out_features=768, bias=True)\n",
       "      (activation): Tanh()\n",
       "    )\n",
       "  )\n",
       "  (dropout): Dropout(p=0.1, inplace=False)\n",
       "  (classifier): Linear(in_features=768, out_features=2, bias=True)\n",
       ")"
      ]
     },
     "execution_count": 3,
     "metadata": {},
     "output_type": "execute_result"
    }
   ],
   "source": [
    "model_name=\"ai-forever/ruBert-base\"\n",
    "\n",
    "tokenizer = BertTokenizer.from_pretrained(model_name, do_lower_case=True)\n",
    "\n",
    "model = BertForSequenceClassification.from_pretrained(\n",
    "    model_name,\n",
    "    num_labels=2,                       \n",
    "    output_attentions=False,\n",
    "    output_hidden_states=False,\n",
    ")\n",
    "model.to(device)"
   ]
  },
  {
   "cell_type": "code",
   "execution_count": 4,
   "metadata": {},
   "outputs": [],
   "source": [
    "dataset_train_fn = 'train.jsonl'\n",
    "dataset_validation_fn = \"val.jsonl\"\n",
    "dataset_test_fn = 'test.jsonl'"
   ]
  },
  {
   "cell_type": "code",
   "execution_count": 5,
   "metadata": {},
   "outputs": [],
   "source": [
    "import pandas as pd\n",
    "train_df = pd.read_json(dataset_train_fn,lines=True)\n",
    "validation_df = pd.read_json(dataset_validation_fn,lines=True)\n",
    "test_df = pd.read_json(dataset_test_fn,lines=True)"
   ]
  },
  {
   "cell_type": "code",
   "execution_count": 6,
   "metadata": {},
   "outputs": [],
   "source": [
    "train_df.set_index('idx', inplace=True)\n",
    "validation_df.set_index('idx', inplace=True)\n",
    "test_df.set_index('idx', inplace=True)"
   ]
  },
  {
   "cell_type": "code",
   "execution_count": 7,
   "metadata": {},
   "outputs": [
    {
     "data": {
      "text/html": [
       "<div>\n",
       "<style scoped>\n",
       "    .dataframe tbody tr th:only-of-type {\n",
       "        vertical-align: middle;\n",
       "    }\n",
       "\n",
       "    .dataframe tbody tr th {\n",
       "        vertical-align: top;\n",
       "    }\n",
       "\n",
       "    .dataframe thead th {\n",
       "        text-align: right;\n",
       "    }\n",
       "</style>\n",
       "<table border=\"1\" class=\"dataframe\">\n",
       "  <thead>\n",
       "    <tr style=\"text-align: right;\">\n",
       "      <th></th>\n",
       "      <th>word</th>\n",
       "      <th>sentence1</th>\n",
       "      <th>sentence2</th>\n",
       "      <th>start1</th>\n",
       "      <th>end1</th>\n",
       "      <th>start2</th>\n",
       "      <th>end2</th>\n",
       "      <th>label</th>\n",
       "      <th>gold_sense1</th>\n",
       "      <th>gold_sense2</th>\n",
       "    </tr>\n",
       "    <tr>\n",
       "      <th>idx</th>\n",
       "      <th></th>\n",
       "      <th></th>\n",
       "      <th></th>\n",
       "      <th></th>\n",
       "      <th></th>\n",
       "      <th></th>\n",
       "      <th></th>\n",
       "      <th></th>\n",
       "      <th></th>\n",
       "      <th></th>\n",
       "    </tr>\n",
       "  </thead>\n",
       "  <tbody>\n",
       "    <tr>\n",
       "      <th>0</th>\n",
       "      <td>двор</td>\n",
       "      <td>В нашей деревне осталось от силы двадцать дворов</td>\n",
       "      <td>Солнце стояло уже высоко, когда справа от доро...</td>\n",
       "      <td>42</td>\n",
       "      <td>49</td>\n",
       "      <td>69</td>\n",
       "      <td>76</td>\n",
       "      <td>True</td>\n",
       "      <td>1</td>\n",
       "      <td>1</td>\n",
       "    </tr>\n",
       "    <tr>\n",
       "      <th>1</th>\n",
       "      <td>доклад</td>\n",
       "      <td>Табличка на дверях: «Без доклада не входить»</td>\n",
       "      <td>Вчера отбыл в столицу первый секретарь обкома ...</td>\n",
       "      <td>25</td>\n",
       "      <td>33</td>\n",
       "      <td>97</td>\n",
       "      <td>104</td>\n",
       "      <td>False</td>\n",
       "      <td>4</td>\n",
       "      <td>2</td>\n",
       "    </tr>\n",
       "    <tr>\n",
       "      <th>2</th>\n",
       "      <td>засада</td>\n",
       "      <td>У нас вообще […] засада с героями, способными ...</td>\n",
       "      <td>Там в воскресенье все магазины закрыты – вот в...</td>\n",
       "      <td>17</td>\n",
       "      <td>24</td>\n",
       "      <td>50</td>\n",
       "      <td>57</td>\n",
       "      <td>True</td>\n",
       "      <td>2</td>\n",
       "      <td>2</td>\n",
       "    </tr>\n",
       "    <tr>\n",
       "      <th>3</th>\n",
       "      <td>доля</td>\n",
       "      <td>Он не успел сказать и десятой доли того, что с...</td>\n",
       "      <td>Болезнь ее была странного свойства – […] что-т...</td>\n",
       "      <td>30</td>\n",
       "      <td>35</td>\n",
       "      <td>70</td>\n",
       "      <td>77</td>\n",
       "      <td>False</td>\n",
       "      <td>2</td>\n",
       "      <td>3</td>\n",
       "    </tr>\n",
       "    <tr>\n",
       "      <th>4</th>\n",
       "      <td>закат</td>\n",
       "      <td>Теперь, если она не пойдет звонить мужу, успее...</td>\n",
       "      <td>Тридцать с лишним лет службы в органах, три ра...</td>\n",
       "      <td>51</td>\n",
       "      <td>58</td>\n",
       "      <td>85</td>\n",
       "      <td>92</td>\n",
       "      <td>False</td>\n",
       "      <td>1</td>\n",
       "      <td>2</td>\n",
       "    </tr>\n",
       "  </tbody>\n",
       "</table>\n",
       "</div>"
      ],
      "text/plain": [
       "       word                                          sentence1  \\\n",
       "idx                                                              \n",
       "0      двор   В нашей деревне осталось от силы двадцать дворов   \n",
       "1    доклад       Табличка на дверях: «Без доклада не входить»   \n",
       "2    засада  У нас вообще […] засада с героями, способными ...   \n",
       "3      доля  Он не успел сказать и десятой доли того, что с...   \n",
       "4     закат  Теперь, если она не пойдет звонить мужу, успее...   \n",
       "\n",
       "                                             sentence2  start1  end1  start2  \\\n",
       "idx                                                                            \n",
       "0    Солнце стояло уже высоко, когда справа от доро...      42    49      69   \n",
       "1    Вчера отбыл в столицу первый секретарь обкома ...      25    33      97   \n",
       "2    Там в воскресенье все магазины закрыты – вот в...      17    24      50   \n",
       "3    Болезнь ее была странного свойства – […] что-т...      30    35      70   \n",
       "4    Тридцать с лишним лет службы в органах, три ра...      51    58      85   \n",
       "\n",
       "     end2  label  gold_sense1  gold_sense2  \n",
       "idx                                         \n",
       "0      76   True            1            1  \n",
       "1     104  False            4            2  \n",
       "2      57   True            2            2  \n",
       "3      77  False            2            3  \n",
       "4      92  False            1            2  "
      ]
     },
     "execution_count": 7,
     "metadata": {},
     "output_type": "execute_result"
    }
   ],
   "source": [
    "train_df.head()"
   ]
  },
  {
   "cell_type": "code",
   "execution_count": 8,
   "metadata": {},
   "outputs": [
    {
     "name": "stdout",
     "output_type": "stream",
     "text": [
      "Максимальная длина строки:  164\n"
     ]
    }
   ],
   "source": [
    "max_len = 0\n",
    "def max_compound_string_lenght_in_dataset(row, max_len) -> int:\n",
    "    # токенизируем текст, не забывая добавлять специальный токен начала и конца([CLS] и [SEP])\n",
    "    train_input_ids = tokenizer.encode(\n",
    "        row[\"sentence1\"]+ \". \" + row[\"sentence2\"]+ \". \" + row[\"word\"],add_special_tokens=True)\n",
    "    # Сравниваем длину последовательности и если она длиннее - обновляем max_len\n",
    "    return max(max_len, len(train_input_ids))\n",
    "\n",
    "for df in [test_df, train_df, validation_df]:\n",
    "    for _, row in df.iterrows():\n",
    "        max_len = max_compound_string_lenght_in_dataset(row, max_len)\n",
    "\n",
    "print('Максимальная длина строки: ', max_len)\n",
    "\n"
   ]
  },
  {
   "cell_type": "code",
   "execution_count": 9,
   "metadata": {},
   "outputs": [],
   "source": [
    "def encode(sentences: pd.Series) -> list | list:\n",
    "    input_ids = []\n",
    "    attention_masks = []\n",
    "    for sent in sentences:\n",
    "        encoded_dict = tokenizer.encode_plus(\n",
    "                            sent,                           # Предложение для кодирования.\n",
    "                            add_special_tokens = True,      # Добавить '[CLS]' и '[SEP]'.\n",
    "                            max_length = 180,               # Дополнить и обрезать все предложения.\n",
    "                            pad_to_max_length = True,       # Дополнить до максимальной длины и обрезать.\n",
    "                            return_attention_mask = True,   # Создать маски внимания.\n",
    "                            return_tensors = 'pt',          # Вернуть тензоры PyTorch.\n",
    "                    )\n",
    "\n",
    "        # Добавляем закодированное предложение в список.\n",
    "        input_ids.append(encoded_dict['input_ids'])\n",
    "\n",
    "        # А также его маску внимания (просто отличает заполнение от незаполненного).\n",
    "        attention_masks.append(encoded_dict['attention_mask'])\n",
    "\n",
    "    # Возвращаем списки тензоров для input_ids и attention_masks.\n",
    "    return input_ids, attention_masks"
   ]
  },
  {
   "cell_type": "code",
   "execution_count": 10,
   "metadata": {},
   "outputs": [],
   "source": [
    "train_sentences=train_df[\"sentence1\"]+ \". \" + train_df[\"sentence2\"]+ \". \" + train_df[\"word\"]\n",
    "train_sentences=train_sentences.values\n",
    "validation_sentences=validation_df[\"sentence1\"]+ \". \" + validation_df[\"sentence2\"]+ \". \" +validation_df[\"word\"]\n",
    "validation_sentences=validation_sentences.values\n",
    "test_sentences=test_df[\"sentence1\"]+ \". \" + test_df[\"sentence2\"]+ \". \" +test_df[\"word\"]\n",
    "test_sentences=test_sentences.values\n",
    "\n",
    "train_labels=[1 if x else 0 for x in train_df.label.values]\n",
    "validation_labels=[1 if x else 0 for x in validation_df.label.values]\n",
    "\n"
   ]
  },
  {
   "cell_type": "code",
   "execution_count": 11,
   "metadata": {},
   "outputs": [
    {
     "name": "stderr",
     "output_type": "stream",
     "text": [
      "Truncation was not explicitly activated but `max_length` is provided a specific value, please use `truncation=True` to explicitly truncate examples to max length. Defaulting to 'longest_first' truncation strategy. If you encode pairs of sequences (GLUE-style) with the tokenizer you can select this strategy more precisely by providing a specific strategy to `truncation`.\n",
      "/home/kbudakovskiy/anaconda3/lib/python3.10/site-packages/transformers/tokenization_utils_base.py:2614: FutureWarning: The `pad_to_max_length` argument is deprecated and will be removed in a future version, use `padding=True` or `padding='longest'` to pad to the longest sequence in the batch, or use `padding='max_length'` to pad to a max length. In this case, you can give a specific length with `max_length` (e.g. `max_length=45`) or leave max_length to None to pad to the maximal input size of the model (e.g. 512 for Bert).\n",
      "  warnings.warn(\n"
     ]
    },
    {
     "name": "stdout",
     "output_type": "stream",
     "text": [
      "Исходное предложение:  В нашей деревне осталось от силы двадцать дворов. Солнце стояло уже высоко, когда справа от дороги я увидел деревеньку дворов в пятнадцать. двор\n",
      "Идентификаторы слов: tensor([  101,   113,  5937,   378,  8278,  5493,   700,  3372,  6290, 17933,\n",
      "          126,  8072, 24826,   965,  4396,   121,  1040, 12922,   700,  4361,\n",
      "          119,  4400, 22818,   733, 17933,   113, 14222,   126,  4883,   102,\n",
      "            0,     0,     0,     0,     0,     0,     0,     0,     0,     0,\n",
      "            0,     0,     0,     0,     0,     0,     0,     0,     0,     0,\n",
      "            0,     0,     0,     0,     0,     0,     0,     0,     0,     0,\n",
      "            0,     0,     0,     0,     0,     0,     0,     0,     0,     0,\n",
      "            0,     0,     0,     0,     0,     0,     0,     0,     0,     0,\n",
      "            0,     0,     0,     0,     0,     0,     0,     0,     0,     0,\n",
      "            0,     0,     0,     0,     0,     0,     0,     0,     0,     0,\n",
      "            0,     0,     0,     0,     0,     0,     0,     0,     0,     0,\n",
      "            0,     0,     0,     0,     0,     0,     0,     0,     0,     0,\n",
      "            0,     0,     0,     0,     0,     0,     0,     0,     0,     0,\n",
      "            0,     0,     0,     0,     0,     0,     0,     0,     0,     0,\n",
      "            0,     0,     0,     0,     0,     0,     0,     0,     0,     0,\n",
      "            0,     0,     0,     0,     0,     0,     0,     0,     0,     0,\n",
      "            0,     0,     0,     0,     0,     0,     0,     0,     0,     0,\n",
      "            0,     0,     0,     0,     0,     0,     0,     0,     0,     0])\n"
     ]
    }
   ],
   "source": [
    "# Токенизируем все предложения и сопоставляем токены их идентификаторам слов.\n",
    "train_input_ids, train_attention_masks = encode(train_sentences)\n",
    "validation_input_ids, validation_attention_masks = encode(validation_sentences)\n",
    "test_input_ids, test_attention_masks = encode(test_sentences)\n",
    "\n",
    "# Преобразуем списки в тензоры.\n",
    "train_input_ids = torch.cat(train_input_ids, dim=0)\n",
    "train_attention_masks = torch.cat(train_attention_masks, dim=0)\n",
    "train_labels = torch.tensor(train_labels)\n",
    "\n",
    "validation_input_ids = torch.cat(validation_input_ids, dim=0)\n",
    "validation_attention_masks = torch.cat(validation_attention_masks, dim=0)\n",
    "validation_labels = torch.tensor(validation_labels)\n",
    "\n",
    "test_input_ids = torch.cat(test_input_ids, dim=0)\n",
    "test_attention_masks = torch.cat(test_attention_masks, dim=0)\n",
    "\n",
    "# Выводим первое предложение как список идентификаторов слов.\n",
    "print('Исходное предложение: ', train_sentences[0])\n",
    "print('Идентификаторы слов:', train_input_ids[0])\n"
   ]
  },
  {
   "cell_type": "code",
   "execution_count": 12,
   "metadata": {},
   "outputs": [],
   "source": [
    "# Создаем TensorDataset из тензоров input_ids, attention_masks и labels.\n",
    "train_dataset=TensorDataset(train_input_ids, train_attention_masks, train_labels)\n",
    "validation_dataset=TensorDataset(validation_input_ids, validation_attention_masks, validation_labels)\n"
   ]
  },
  {
   "cell_type": "code",
   "execution_count": 13,
   "metadata": {},
   "outputs": [],
   "source": [
    "# DataLoader должен знать размер нашего батча для обучения, поэтому мы указываем его здесь.\n",
    "# При fine-tuning BERT на конкретной задаче авторы рекомендуют размер батча 16 или 32.\n",
    "batch_size = 32\n",
    "\n",
    "# Создаем DataLoaders для наших обучающих и валидационных наборов данных.\n",
    "# Образцы для обучения будем брать в случайном порядке.\n",
    "train_dataloader = DataLoader(\n",
    "            train_dataset,  # Обучающие образцы.\n",
    "            sampler = RandomSampler(train_dataset), # Выбираем батчи случайным образом.\n",
    "            batch_size = batch_size # Обучение с этим размером батча.\n",
    "        )\n",
    "\n",
    "# Для валидации порядок не имеет значения, поэтому мы просто читаем их последовательно.\n",
    "validation_dataloader = DataLoader(\n",
    "            validation_dataset, # Валидационные образцы.\n",
    "            sampler = SequentialSampler(validation_dataset), # Извлекаем батчи последовательно.\n",
    "            batch_size = batch_size # Оценка с этим размером батча.\n",
    "        )"
   ]
  },
  {
   "cell_type": "code",
   "execution_count": 14,
   "metadata": {},
   "outputs": [],
   "source": [
    "# Примечание: AdamW - это класс из библиотеки huggingface (в отличие от pytorch)\n",
    "# Вероятно, 'W' означает 'Weight Decay fix' (исправление весового распада, что есть не очень понятно по звучанию).\n",
    "\n",
    "# Инициализируем оптимизатор AdamW.\n",
    "optimizer = torch.optim.AdamW(model.parameters(),\n",
    "                  lr=2e-5,   # Скорость обучения - по умолчанию 5e-5, в нашем случае 2e-5.\n",
    "                  eps=1e-8   # Epsilon для Adam - по умолчанию 1e-8.\n",
    "                )\n"
   ]
  },
  {
   "cell_type": "code",
   "execution_count": 15,
   "metadata": {},
   "outputs": [],
   "source": [
    "# Количество эпох обучения. Авторы BERT рекомендуют от 2 до 4 эпох.\n",
    "# Мы выбрали 4, но позже увидим, что это может привести к переобучению.\n",
    "\n",
    "epochs = 4\n",
    "\n",
    "# Общее количество шагов обучения - [количество батчей] x [количество эпох].\n",
    "# (Обратите внимание, что это не то же самое, что количество обучающих образцов).\n",
    "total_steps = len(train_dataloader) * epochs\n",
    "\n",
    "# Создаем планировщик скорости обучения.\n",
    "scheduler = get_linear_schedule_with_warmup(optimizer,\n",
    "                                            num_warmup_steps=0, # Значение по умолчанию в run_glue.py.\n",
    "                                            num_training_steps=total_steps)"
   ]
  },
  {
   "cell_type": "code",
   "execution_count": 16,
   "metadata": {},
   "outputs": [],
   "source": [
    "# Функция для вычисления точности наших предсказаний по сравнению с метками.\n",
    "def flat_accuracy(preds, labels):\n",
    "    pred_flat = np.argmax(preds, axis=1).flatten()\n",
    "    labels_flat = labels.flatten()\n",
    "    return np.sum(pred_flat == labels_flat) / len(labels_flat)"
   ]
  },
  {
   "cell_type": "code",
   "execution_count": 17,
   "metadata": {},
   "outputs": [],
   "source": [
    "def format_time(elapsed):\n",
    "    elapsed_rounded = int(round(elapsed))\n",
    "    return str(datetime.timedelta(seconds=elapsed_rounded))\n"
   ]
  },
  {
   "cell_type": "code",
   "execution_count": 18,
   "metadata": {},
   "outputs": [],
   "source": [
    "import os\n",
    "output_dir = './model_save/'\n",
    "\n",
    "# Создаем директорию в случае отсутствия\n",
    "if not os.path.exists(output_dir):\n",
    "    os.makedirs(output_dir)"
   ]
  },
  {
   "cell_type": "code",
   "execution_count": 19,
   "metadata": {},
   "outputs": [
    {
     "name": "stdout",
     "output_type": "stream",
     "text": [
      "\n",
      "Обучение: эпохи 1 / 4:\n",
      "  Батч    50  из    621.    Затраченное время: 0:02:46.\n",
      "  Батч   100  из    621.    Затраченное время: 0:05:00.\n",
      "  Батч   150  из    621.    Затраченное время: 0:07:18.\n",
      "  Батч   200  из    621.    Затраченное время: 0:09:32.\n",
      "  Батч   250  из    621.    Затраченное время: 0:11:48.\n",
      "  Батч   300  из    621.    Затраченное время: 0:14:11.\n",
      "  Батч   350  из    621.    Затраченное время: 0:16:49.\n",
      "  Батч   400  из    621.    Затраченное время: 0:19:27.\n",
      "  Батч   450  из    621.    Затраченное время: 0:22:01.\n",
      "  Батч   500  из    621.    Затраченное время: 0:24:35.\n",
      "  Батч   550  из    621.    Затраченное время: 0:27:14.\n",
      "  Батч   600  из    621.    Затраченное время: 0:29:50.\n",
      "\n",
      "  Средняя обучающая потеря: 0.58\n",
      " Время затраченное обучение: 0:30:54\n",
      "\n",
      "Валидация\n",
      "  Точность: 0.76\n",
      "  Потери валидации: 0.49\n",
      "  Валидация заняла: 0:04:26\n",
      "\n",
      "Обучение: эпохи 2 / 4:\n",
      "  Батч    50  из    621.    Затраченное время: 0:02:35.\n",
      "  Батч   100  из    621.    Затраченное время: 0:05:10.\n",
      "  Батч   150  из    621.    Затраченное время: 0:07:40.\n",
      "  Батч   200  из    621.    Затраченное время: 0:10:20.\n",
      "  Батч   250  из    621.    Затраченное время: 0:12:55.\n",
      "  Батч   300  из    621.    Затраченное время: 0:15:20.\n",
      "  Батч   350  из    621.    Затраченное время: 0:17:41.\n",
      "  Батч   400  из    621.    Затраченное время: 0:20:04.\n",
      "  Батч   450  из    621.    Затраченное время: 0:22:25.\n",
      "  Батч   500  из    621.    Затраченное время: 0:24:45.\n",
      "  Батч   550  из    621.    Затраченное время: 0:27:07.\n",
      "  Батч   600  из    621.    Затраченное время: 0:29:31.\n",
      "\n",
      "  Средняя обучающая потеря: 0.37\n",
      " Время затраченное обучение: 0:30:26\n",
      "\n",
      "Валидация\n",
      "  Точность: 0.83\n",
      "  Потери валидации: 0.40\n",
      "  Валидация заняла: 0:04:09\n",
      "\n",
      "Обучение: эпохи 3 / 4:\n",
      "  Батч    50  из    621.    Затраченное время: 0:02:17.\n",
      "  Батч   100  из    621.    Затраченное время: 0:04:36.\n",
      "  Батч   150  из    621.    Затраченное время: 0:07:01.\n",
      "  Батч   200  из    621.    Затраченное время: 0:09:13.\n",
      "  Батч   250  из    621.    Затраченное время: 0:11:34.\n",
      "  Батч   300  из    621.    Затраченное время: 0:13:51.\n",
      "  Батч   350  из    621.    Затраченное время: 0:16:13.\n",
      "  Батч   400  из    621.    Затраченное время: 0:18:38.\n",
      "  Батч   450  из    621.    Затраченное время: 0:21:00.\n",
      "  Батч   500  из    621.    Затраченное время: 0:23:21.\n",
      "  Батч   550  из    621.    Затраченное время: 0:25:42.\n",
      "  Батч   600  из    621.    Затраченное время: 0:27:59.\n",
      "\n",
      "  Средняя обучающая потеря: 0.21\n",
      " Время затраченное обучение: 0:28:58\n",
      "\n",
      "Валидация\n",
      "  Точность: 0.85\n",
      "  Потери валидации: 0.41\n",
      "  Валидация заняла: 0:04:10\n",
      "\n",
      "Обучение: эпохи 4 / 4:\n",
      "  Батч    50  из    621.    Затраченное время: 0:02:21.\n",
      "  Батч   100  из    621.    Затраченное время: 0:04:46.\n",
      "  Батч   150  из    621.    Затраченное время: 0:07:03.\n",
      "  Батч   200  из    621.    Затраченное время: 0:09:24.\n",
      "  Батч   250  из    621.    Затраченное время: 0:11:46.\n",
      "  Батч   300  из    621.    Затраченное время: 0:14:08.\n",
      "  Батч   350  из    621.    Затраченное время: 0:16:29.\n",
      "  Батч   400  из    621.    Затраченное время: 0:18:50.\n",
      "  Батч   450  из    621.    Затраченное время: 0:20:53.\n",
      "  Батч   500  из    621.    Затраченное время: 0:21:24.\n",
      "  Батч   550  из    621.    Затраченное время: 0:21:56.\n",
      "  Батч   600  из    621.    Затраченное время: 0:22:27.\n",
      "\n",
      "  Средняя обучающая потеря: 0.12\n",
      " Время затраченное обучение: 0:22:40\n",
      "\n",
      "Валидация\n",
      "  Точность: 0.85\n",
      "  Потери валидации: 0.47\n",
      "  Валидация заняла: 0:00:54\n",
      "\n",
      "Обучение завершено\n",
      "Обучение заняло 2:06:38 (ч:м:с)\n"
     ]
    }
   ],
   "source": [
    "seed_val = 42\n",
    "\n",
    "random.seed(seed_val)\n",
    "np.random.seed(seed_val)\n",
    "torch.manual_seed(seed_val)\n",
    "torch.cuda.manual_seed_all(seed_val)\n",
    "\n",
    "training_stats = []\n",
    "total_t0 = time.time()\n",
    "for epoch_i in range(0, epochs):\n",
    "    print('\\nОбучение: эпохи {:} / {:}:'.format(epoch_i + 1, epochs))\n",
    "    t0 = time.time()\n",
    "    total_train_loss = 0\n",
    "    model.train()\n",
    "\n",
    "    for step, batch in enumerate(train_dataloader):\n",
    "        if step % 50 == 0 and not step == 0:\n",
    "            elapsed = format_time(time.time() - t0)\n",
    "            print('  Батч {:>5,}  из  {:>5,}.    Затраченное время: {:}.'.format(step, len(train_dataloader), elapsed))\n",
    "        b_input_ids = batch[0].to(device)\n",
    "        b_input_mask = batch[1].to(device)\n",
    "        b_labels = batch[2].to(device)\n",
    "        model.zero_grad()\n",
    "        res = model(b_input_ids,\n",
    "                             token_type_ids=None,\n",
    "                             attention_mask=b_input_mask,\n",
    "                             labels=b_labels)\n",
    "        loss = res['loss']\n",
    "        logits = res['logits']\n",
    "        total_train_loss += loss.item()\n",
    "        loss.backward()\n",
    "        torch.nn.utils.clip_grad_norm_(model.parameters(), 1.0)\n",
    "        optimizer.step()\n",
    "        scheduler.step()\n",
    "    avg_train_loss = total_train_loss / len(train_dataloader)\n",
    "    training_time = format_time(time.time() - t0)\n",
    "    print(\"\\n  Средняя обучающая потеря: {0:.2f}\".format(avg_train_loss))\n",
    "    print(\" Время затраченное обучение: {:}\".format(training_time))\n",
    "    print(\"\\nВалидация\")\n",
    "\n",
    "    t0 = time.time()\n",
    "    model.eval()\n",
    "    total_eval_accuracy = 0\n",
    "    total_eval_loss = 0\n",
    "    nb_eval_steps = 0\n",
    "\n",
    "    for batch in validation_dataloader:\n",
    "        b_input_ids = batch[0].to(device)\n",
    "        b_input_mask = batch[1].to(device)\n",
    "        b_labels = batch[2].to(device)\n",
    "\n",
    "        with torch.no_grad():\n",
    "            res = model(b_input_ids,\n",
    "                                   token_type_ids=None,\n",
    "                                   attention_mask=b_input_mask,\n",
    "                                   labels=b_labels)\n",
    "        loss = res['loss']\n",
    "        logits = res['logits']\n",
    "        total_eval_loss += loss.item()\n",
    "        logits = logits.detach().cpu().numpy()\n",
    "        label_ids = b_labels.to('cpu').numpy()\n",
    "        total_eval_accuracy += flat_accuracy(logits, label_ids)\n",
    "\n",
    "    avg_val_accuracy = total_eval_accuracy / len(validation_dataloader)\n",
    "    print(\"  Точность: {0:.2f}\".format(avg_val_accuracy))\n",
    "    avg_val_loss = total_eval_loss / len(validation_dataloader)\n",
    "    validation_time = format_time(time.time() - t0)\n",
    "    print(\"  Потери валидации: {0:.2f}\".format(avg_val_loss))\n",
    "    print(\"  Валидация заняла: {:}\".format(validation_time))\n",
    "\n",
    "    training_stats.append(\n",
    "        {\n",
    "            'epoch': epoch_i + 1,\n",
    "            'Обучающая потеря': avg_train_loss,\n",
    "            'Потери на валидации': avg_val_loss,\n",
    "            'Точность на валидации': avg_val_accuracy,\n",
    "            'Время обучения': training_time,\n",
    "            'Время валидации': validation_time\n",
    "        }\n",
    "    )\n",
    "print(\"\\nОбучение завершено\")\n",
    "print(\"Обучение заняло {:} (ч:м:с)\".format(format_time(time.time()-total_t0)))"
   ]
  },
  {
   "cell_type": "code",
   "execution_count": 26,
   "metadata": {},
   "outputs": [
    {
     "name": "stdout",
     "output_type": "stream",
     "text": [
      "Сохранение модели в ./model_save/\n"
     ]
    },
    {
     "data": {
      "text/plain": [
       "('./model_save/tokenizer_config.json',\n",
       " './model_save/special_tokens_map.json',\n",
       " './model_save/vocab.txt',\n",
       " './model_save/added_tokens.json')"
      ]
     },
     "execution_count": 26,
     "metadata": {},
     "output_type": "execute_result"
    }
   ],
   "source": [
    "print(\"Сохранение модели в %s\" % output_dir)\n",
    "model.save_pretrained(output_dir)\n",
    "# tokenizer.save_pretrained(output_dir)"
   ]
  },
  {
   "cell_type": "markdown",
   "metadata": {},
   "source": [
    "### Оценка на тесте"
   ]
  },
  {
   "cell_type": "code",
   "execution_count": 21,
   "metadata": {},
   "outputs": [],
   "source": [
    "test_dataset = TensorDataset(test_input_ids, test_attention_masks)"
   ]
  },
  {
   "cell_type": "code",
   "execution_count": 22,
   "metadata": {},
   "outputs": [],
   "source": [
    "test_dataloader = DataLoader(\n",
    "            test_dataset,\n",
    "            sampler = SequentialSampler(test_dataset),\n",
    "            shuffle=False\n",
    "        )"
   ]
  },
  {
   "cell_type": "code",
   "execution_count": 23,
   "metadata": {},
   "outputs": [
    {
     "name": "stdout",
     "output_type": "stream",
     "text": [
      "Проверка модели 18,892 на ткстовых данных\n",
      "Заверешено\n"
     ]
    }
   ],
   "source": [
    "# Prediction on test set\n",
    "print('Проверка модели {:,} на ткстовых данных'.format(len(test_input_ids)))\n",
    "# Put model in evaluation mode\n",
    "model.eval()\n",
    "# Tracking variables\n",
    "predictions , true_labels = [], []\n",
    "# Predict\n",
    "for batch in test_dataloader:\n",
    "  # Add batch to GPU\n",
    "  batch = tuple(t.to(device) for t in batch)\n",
    "  # Unpack the inputs from our dataloader\n",
    "  b_input_ids, b_input_mask = batch\n",
    "  # Telling the model not to compute or store gradients, saving memory and\n",
    "  # speeding up prediction\n",
    "  with torch.no_grad():\n",
    "      # Forward pass, calculate logit predictions\n",
    "      outputs = model(b_input_ids, token_type_ids=None,\n",
    "                      attention_mask=b_input_mask)\n",
    "\n",
    "  logits = outputs[0]\n",
    "\n",
    "  # Move logits and labels to CPU\n",
    "  logits = logits.detach().cpu().numpy()\n",
    "\n",
    "  # Store predictions and true labels\n",
    "  predictions.append(logits)\n",
    "  \n",
    "print('Заверешено')"
   ]
  },
  {
   "cell_type": "code",
   "execution_count": 24,
   "metadata": {},
   "outputs": [
    {
     "name": "stdout",
     "output_type": "stream",
     "text": [
      "Прогноз меток для 18,892 тестовых предложений...\n",
      "Заверешено\n"
     ]
    }
   ],
   "source": [
    "test_dataset = TensorDataset(test_input_ids, test_attention_masks)\n",
    "test_dataloader = DataLoader(\n",
    "            test_dataset,\n",
    "            sampler = SequentialSampler(test_dataset),\n",
    "            shuffle=False\n",
    "        )\n",
    "\n",
    "print('Прогноз меток для {:,} тестовых предложений...'.format(len(test_input_ids)))\n",
    "model.eval()\n",
    "predictions = []\n",
    "\n",
    "for idx, batch in enumerate(test_dataloader):\n",
    "    batch = tuple(t.to(device) for t in batch)\n",
    "    b_input_ids, b_input_mask = batch\n",
    "\n",
    "    with torch.no_grad():\n",
    "        outputs = model(b_input_ids, token_type_ids=None,\n",
    "                        attention_mask=b_input_mask)\n",
    "\n",
    "    logits = outputs[0].cpu().numpy()\n",
    "    \n",
    "    predictions.extend([{\"idx\": int(idx), \"label\": logits[i].tolist()} for i in range(len(logits))])\n",
    "print('Заверешено')\n"
   ]
  },
  {
   "cell_type": "code",
   "execution_count": 25,
   "metadata": {},
   "outputs": [
    {
     "name": "stdout",
     "output_type": "stream",
     "text": [
      "Запись предсказанных значений в файл RUSSE.jsonl\n"
     ]
    }
   ],
   "source": [
    "import json\n",
    "output_file = 'RUSSE.jsonl'\n",
    "\n",
    "print(f'Запись предсказанных значений в файл {output_file}')\n",
    "with open(output_file, 'w') as json_file:\n",
    "    for prediction in predictions:\n",
    "        label=np.argmax(prediction[\"label\"])\n",
    "        if label==1:\n",
    "            label=\"true\"\n",
    "        else:\n",
    "            label=\"false\"\n",
    "        prediction[\"label\"]=label\n",
    "        json_file.write(json.dumps(prediction) + '\\n')"
   ]
  }
 ],
 "metadata": {
  "kernelspec": {
   "display_name": "env",
   "language": "python",
   "name": "python3"
  },
  "language_info": {
   "codemirror_mode": {
    "name": "ipython",
    "version": 3
   },
   "file_extension": ".py",
   "mimetype": "text/x-python",
   "name": "python",
   "nbconvert_exporter": "python",
   "pygments_lexer": "ipython3",
   "version": "3.10.9"
  }
 },
 "nbformat": 4,
 "nbformat_minor": 2
}
